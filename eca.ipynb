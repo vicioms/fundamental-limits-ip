{
 "cells": [
  {
   "cell_type": "code",
   "execution_count": null,
   "metadata": {},
   "outputs": [],
   "source": [
    "import numpy as np\n",
    "import pandas as pd\n",
    "from climateUtils import eca_read_station_like_file\n",
    "import matplotlib.pyplot as plt"
   ]
  },
  {
   "cell_type": "code",
   "execution_count": null,
   "metadata": {},
   "outputs": [],
   "source": [
    "stations_pres = eca_read_station_like_file(\"eca_data/ECA_blend_station_pp.txt\")\n",
    "stations_prec = eca_read_station_like_file(\"eca_data/ECA_blend_station_rr.txt\")\n",
    "stations_tavg = eca_read_station_like_file(\"eca_data/ECA_blend_station_tg.txt\")\n",
    "stations_rads = eca_read_station_like_file(\"eca_data/ECA_blend_station_qq.txt\")\n",
    "\n",
    "stations_dict = {'pp' : stations_pres, 'rr' : stations_prec, 'tg' : stations_tavg, 'qq' : stations_rads}\n",
    "\n",
    "\n",
    "stations = pd.concat([stations_pres, stations_prec,stations_tavg,stations_rads ]).drop_duplicates().reset_index(drop=True)"
   ]
  },
  {
   "cell_type": "code",
   "execution_count": null,
   "metadata": {},
   "outputs": [],
   "source": [
    "stations_pres"
   ]
  },
  {
   "cell_type": "code",
   "execution_count": null,
   "metadata": {},
   "outputs": [],
   "source": [
    "dataframes = []\n",
    "for measure, stations in stations_dict.items():\n",
    "    for _,row in stations.iterrows():\n",
    "        if(_ % 500 == 0):\n",
    "            print(_)\n",
    "        stat_id = row['STAID']\n",
    "        filename = \"eca_data/ECA_blend_%s/%s_STAID%06i.txt\" % (measure, measure.upper(),stat_id)\n",
    "        df = eca_read_station_like_file(filename)\n",
    "        df['DATE'] = pd.to_datetime(df['DATE'], format=\"%Y%m%d\")\n",
    "        df[df == -9999] = np.nan\n",
    "        df.dropna(axis=0, inplace=True)\n",
    "        df = df[['STAID', 'DATE', measure.upper()]]\n",
    "        df.rename({'STAID': 'station_id', 'DATE' : 'date', measure.upper() : 'value' }, axis=1, inplace=True)\n",
    "        df['measure'] = measure\n",
    "        df.set_index(['station_id', 'measure', 'date'], drop=True, inplace=True)\n",
    "        dataframes.append(df)\n",
    "dataframes = pd.concat(dataframes, axis=0)"
   ]
  },
  {
   "cell_type": "code",
   "execution_count": null,
   "metadata": {},
   "outputs": [],
   "source": [
    "measure_x = 'pp'\n",
    "measure_y = 'tg'\n",
    "subset = pd.merge(dataframes.xs(measure_x, level='measure'), dataframes.xs(measure_y, level='measure'),left_index=True, right_index=True, how='inner')"
   ]
  },
  {
   "cell_type": "code",
   "execution_count": null,
   "metadata": {},
   "outputs": [],
   "source": [
    "stations_df = stations_dict[measure_x]"
   ]
  },
  {
   "cell_type": "code",
   "execution_count": null,
   "metadata": {},
   "outputs": [],
   "source": [
    "mutual_variance = {}\n",
    "mutual_info = {}\n",
    "mutual_fano = {}\n",
    "for station_id, group in subset.groupby('station_id'):\n",
    "    group_indexed = group.reset_index(level='station_id', drop=True)\n",
    "    \n",
    "    rolling_cov = group_indexed['value_x'].rolling('30D').cov(group_indexed['value_y'])\n",
    "    rolling_varx = group_indexed['value_x'].rolling('30D').var()\n",
    "    rolling_vary = group_indexed['value_y'].rolling('30D').var()\n",
    "    \n",
    "    mutual_info[station_id] = 0.5*np.log((rolling_varx*rolling_vary)/(rolling_varx*rolling_vary-rolling_cov*rolling_cov))\n",
    "    mutual_variance[station_id] = 1- np.exp(-2*mutual_info[station_id] ) #only for 2 vars\n",
    "    mutual_fano[station_id] = mutual_variance[station_id]/mutual_info[station_id]"
   ]
  },
  {
   "cell_type": "code",
   "execution_count": null,
   "metadata": {},
   "outputs": [],
   "source": [
    "date = np.datetime64('2010-01-01')\n"
   ]
  },
  {
   "cell_type": "code",
   "execution_count": null,
   "metadata": {},
   "outputs": [],
   "source": [
    "for counter,date in enumerate(np.arange(np.datetime64('2010-01-01'), np.datetime64('2015-12-31'))):\n",
    "    data_plot = []\n",
    "    for stat_id in mutual_fano.keys():\n",
    "        dioporco = mutual_info[stat_id]\n",
    "        location = stations_df[stations_df['STAID'] == stat_id][['LAT','LON']].values.flatten()\n",
    "        values = dioporco.values[dioporco.index==date]\n",
    "        \n",
    "        if(len(values) == 0):\n",
    "            continue\n",
    "        data_plot.append((location[0], location[1], values[0]))\n",
    "        \n",
    "        \n",
    "    data_plot = np.array(data_plot)\n",
    "    fig, ax = plt.subplots(figsize=(10,6))\n",
    "    plt.scatter(data_plot[:,1], data_plot[:,0], c=data_plot[:,2], s=3, vmin=0.0, vmax=0.8)\n",
    "    ax.set_aspect('equal')\n",
    "    plt.savefig(\"plots/%i.png\" % counter)\n",
    "    plt.close()"
   ]
  }
 ],
 "metadata": {
  "kernelspec": {
   "display_name": "wings",
   "language": "python",
   "name": "python3"
  },
  "language_info": {
   "codemirror_mode": {
    "name": "ipython",
    "version": 3
   },
   "file_extension": ".py",
   "mimetype": "text/x-python",
   "name": "python",
   "nbconvert_exporter": "python",
   "pygments_lexer": "ipython3",
   "version": "3.12.2"
  }
 },
 "nbformat": 4,
 "nbformat_minor": 2
}
