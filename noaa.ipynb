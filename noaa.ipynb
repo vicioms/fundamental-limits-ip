{
 "cells": [
  {
   "cell_type": "code",
   "execution_count": 1,
   "metadata": {},
   "outputs": [],
   "source": [
    "import pandas as pd\n",
    "import numpy as np\n",
    "import matplotlib.pyplot as plt\n",
    "import re\n",
    "from numba import njit\n",
    "from datetime import datetime, timedelta\n",
    "from scipy.spatial import Delaunay, ConvexHull\n",
    "from climateUtils import populate_dly_ghcnd"
   ]
  },
  {
   "cell_type": "code",
   "execution_count": 2,
   "metadata": {},
   "outputs": [],
   "source": [
    "stations = pd.read_csv('ghcnd-stations.txt', sep=r'\\s+', on_bad_lines='skip', header=None).loc[:,[0,1,2]].rename({0:'station', 1:'lat', 2:'lon'}, axis=1)\n",
    "stations = stations[(stations.lon > -10)*(stations.lon < 40)*(stations.lat > 30)*(stations.lat < 70)].reset_index(drop=True)\n",
    "stations = stations.set_index('station')"
   ]
  },
  {
   "cell_type": "code",
   "execution_count": 3,
   "metadata": {},
   "outputs": [],
   "source": [
    "source_dir = 'ghcnd_all/ghcnd_all/'"
   ]
  },
  {
   "cell_type": "code",
   "execution_count": 4,
   "metadata": {},
   "outputs": [
    {
     "name": "stdout",
     "output_type": "stream",
     "text": [
      "[Errno 2] No such file or directory: 'ghcnd_all/ghcnd_all/GMM00010628.dly'\n"
     ]
    }
   ],
   "source": [
    "countries = ['IT', 'FR', 'GM', 'SP']\n",
    "data_dict = {'station' : [], 'year' : [], 'month' : [], 'day' : [], 'measure' : [], 'value' : []}\n",
    "min_year = 1980 \n",
    "for station_name, row in stations.iterrows():\n",
    "    \n",
    "    if(not station_name[:2] in countries):\n",
    "        continue\n",
    "    filename = source_dir + station_name + '.dly'\n",
    "    populate_dly_ghcnd(filename, station_name, min_year, data_dict)"
   ]
  },
  {
   "cell_type": "code",
   "execution_count": null,
   "metadata": {},
   "outputs": [],
   "source": [
    "data = pd.DataFrame.from_dict(data_dict).sort_values(by=['year', 'month', 'day'])\n",
    "data.dropna(axis=0, inplace=True)\n",
    "data['date'] = pd.to_datetime(data[['year', 'month', 'day']])\n",
    "data.drop(['year', 'month', 'day'], axis=1, inplace=True)\n",
    "data.set_index(['station', 'date', 'measure'], inplace=True, drop=True)"
   ]
  },
  {
   "cell_type": "code",
   "execution_count": 22,
   "metadata": {},
   "outputs": [],
   "source": [
    "measure_x = 'TAVG'\n",
    "measure_y = 'PRCP'\n",
    "subset = pd.merge(data.xs(measure_x, level='measure'), data.xs(measure_y, level='measure'),left_index=True, right_index=True, how='inner')"
   ]
  },
  {
   "cell_type": "code",
   "execution_count": null,
   "metadata": {},
   "outputs": [],
   "source": [
    "spatial_data = []\n",
    "for station, group in subset.groupby('station',):\n",
    "    group_indexed = group.reset_index(level='station', drop=True)\n",
    "    rolling_cov = group_indexed['value_x'].rolling('10D').cov(group_indexed['value_y'])\n",
    "    rolling_varx = group_indexed['value_x'].rolling('10D').var()\n",
    "    rolling_vary = group_indexed['value_y'].rolling('10D').var()\n",
    "    mutual = np.log(rolling_varx*rolling_vary/(rolling_varx*rolling_vary-rolling_cov*rolling_cov))/2\n",
    "    variance_mutual = rolling_cov*rolling_cov/(rolling_varx*rolling_vary)\n",
    "    info = stations.loc[station]\n",
    "    lat, lon = info['lat'], info['lon']\n",
    "    spatial_data.append((lon, lat, (variance_mutual/mutual).dropna(axis=0).median()))\n",
    "spatial_data = np.array(spatial_data)"
   ]
  },
  {
   "cell_type": "code",
   "execution_count": 54,
   "metadata": {},
   "outputs": [],
   "source": [
    "%matplotlib qt\n",
    "plt.scatter(spatial_data[:, 0], spatial_data[:, 1], c=spatial_data[:,2])\n",
    "plt.colorbar()\n",
    "plt.gca().set_aspect('equal')\n",
    "plt.show()"
   ]
  },
  {
   "cell_type": "code",
   "execution_count": null,
   "metadata": {},
   "outputs": [],
   "source": [
    "spatial_data = []\n",
    "for station, group in subset.groupby('station'):\n",
    "    info = stations.loc[station]\n",
    "    lat, lon = info['lat'], info['lon']\n",
    "    cmatr = np.corrcoef(group['value_x'], group['value_y'])\n",
    "    spatial_data.append((lon, lat, cmatr[0,1]))\n",
    "spatial_data = np.array(spatial_data)"
   ]
  },
  {
   "cell_type": "code",
   "execution_count": 33,
   "metadata": {},
   "outputs": [],
   "source": [
    "%matplotlib qt\n",
    "plt.scatter(spatial_data[:, 0], spatial_data[:, 1], c=spatial_data[:,2])\n",
    "plt.colorbar()\n",
    "plt.gca().set_aspect('equal')\n",
    "plt.show()"
   ]
  },
  {
   "cell_type": "code",
   "execution_count": null,
   "metadata": {},
   "outputs": [],
   "source": []
  }
 ],
 "metadata": {
  "kernelspec": {
   "display_name": "wings",
   "language": "python",
   "name": "python3"
  },
  "language_info": {
   "codemirror_mode": {
    "name": "ipython",
    "version": 3
   },
   "file_extension": ".py",
   "mimetype": "text/x-python",
   "name": "python",
   "nbconvert_exporter": "python",
   "pygments_lexer": "ipython3",
   "version": "3.12.2"
  }
 },
 "nbformat": 4,
 "nbformat_minor": 2
}
